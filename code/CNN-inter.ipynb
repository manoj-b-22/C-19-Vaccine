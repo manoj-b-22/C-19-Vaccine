{
  "cells": [
    {
      "cell_type": "markdown",
      "metadata": {
        "id": "view-in-github",
        "colab_type": "text"
      },
      "source": [
        "<a href=\"https://colab.research.google.com/github/manoj-b-22/C-19-Vaccine/blob/main/code/CNN-inter.ipynb\" target=\"_parent\"><img src=\"https://colab.research.google.com/assets/colab-badge.svg\" alt=\"Open In Colab\"/></a>"
      ]
    },
    {
      "cell_type": "code",
      "execution_count": null,
      "metadata": {
        "id": "wNsltBIH6Eve"
      },
      "outputs": [],
      "source": [
        "import numpy as np\n",
        "import pandas as pd\n",
        "from keras.models import Sequential\n",
        "from sklearn.metrics import classification_report\n",
        "from keras.layers import Conv1D, Dense, AveragePooling1D\n",
        "from sklearn.preprocessing import StandardScaler, LabelEncoder"
      ]
    },
    {
      "cell_type": "code",
      "source": [
        "from google.colab import drive\n",
        "drive.mount('/content/drive')"
      ],
      "metadata": {
        "id": "0LvvSzuf6Led",
        "colab": {
          "base_uri": "https://localhost:8080/"
        },
        "outputId": "168d04d0-66f2-41bd-a44e-190de96acf5f"
      },
      "execution_count": null,
      "outputs": [
        {
          "output_type": "stream",
          "name": "stdout",
          "text": [
            "Mounted at /content/drive\n"
          ]
        }
      ]
    },
    {
      "cell_type": "code",
      "source": [
        "scaler = StandardScaler()\n",
        "encoder = LabelEncoder()"
      ],
      "metadata": {
        "id": "NskDJRX3VV7I"
      },
      "execution_count": null,
      "outputs": []
    },
    {
      "cell_type": "code",
      "execution_count": null,
      "metadata": {
        "id": "oNSWxJLW6Evj"
      },
      "outputs": [],
      "source": [
        "train = pd.read_csv('/content/drive/MyDrive/train-intervehicle.csv',chunksize=500000)\n",
        "test = pd.read_csv('/content/drive/MyDrive/test-intervehicle.csv')"
      ]
    },
    {
      "cell_type": "code",
      "source": [
        "model = Sequential()\n",
        "model.add(Conv1D(activation=\"sigmoid\", input_shape=(len(test.columns)-1,1), kernel_size=5, filters=6))\n",
        "model.add(AveragePooling1D(pool_size=2))\n",
        "model.add(Conv1D(activation=\"sigmoid\", kernel_size=5, filters=6))\n",
        "model.add(AveragePooling1D(pool_size=2))\n",
        "model.add(Conv1D(activation=\"sigmoid\", kernel_size=5, filters=12))\n",
        "model.add(AveragePooling1D(pool_size=2))\n",
        "model.add(Dense(1, activation='sigmoid'))\n",
        "\n",
        "model.compile(loss='binary_crossentropy', optimizer='adam', metrics=['accuracy'])\n",
        "model.summary()"
      ],
      "metadata": {
        "id": "5Gu9qMvNVcd1",
        "outputId": "feff134e-c054-4dfa-e2f1-12bf342e186f",
        "colab": {
          "base_uri": "https://localhost:8080/"
        }
      },
      "execution_count": null,
      "outputs": [
        {
          "output_type": "stream",
          "name": "stdout",
          "text": [
            "Model: \"sequential\"\n",
            "_________________________________________________________________\n",
            " Layer (type)                Output Shape              Param #   \n",
            "=================================================================\n",
            " conv1d (Conv1D)             (None, 66, 6)             36        \n",
            "                                                                 \n",
            " average_pooling1d (AverageP  (None, 33, 6)            0         \n",
            " ooling1D)                                                       \n",
            "                                                                 \n",
            " conv1d_1 (Conv1D)           (None, 29, 6)             186       \n",
            "                                                                 \n",
            " average_pooling1d_1 (Averag  (None, 14, 6)            0         \n",
            " ePooling1D)                                                     \n",
            "                                                                 \n",
            " conv1d_2 (Conv1D)           (None, 10, 12)            372       \n",
            "                                                                 \n",
            " average_pooling1d_2 (Averag  (None, 5, 12)            0         \n",
            " ePooling1D)                                                     \n",
            "                                                                 \n",
            " dense (Dense)               (None, 5, 1)              13        \n",
            "                                                                 \n",
            "=================================================================\n",
            "Total params: 607\n",
            "Trainable params: 607\n",
            "Non-trainable params: 0\n",
            "_________________________________________________________________\n"
          ]
        }
      ]
    },
    {
      "cell_type": "code",
      "source": [
        "for chunk in train:\n",
        "  train_y = chunk.pop('Label')\n",
        "  train_x = chunk\n",
        "  train_x = scaler.fit_transform(train_x)\n",
        "  train_y = encoder.fit_transform(train_y)\n",
        "  model.fit(train_x,train_y,batch_size=32)"
      ],
      "metadata": {
        "id": "gakwuCpLX7YK",
        "colab": {
          "base_uri": "https://localhost:8080/"
        },
        "outputId": "e270faac-76e9-47f8-cf1b-e83ffd2328f9"
      },
      "execution_count": null,
      "outputs": [
        {
          "output_type": "stream",
          "name": "stdout",
          "text": [
            "15625/15625 [==============================] - 61s 3ms/step - loss: 7.8332 - accuracy: 0.4922\n",
            "15625/15625 [==============================] - 49s 3ms/step - loss: 7.8377 - accuracy: 0.4919\n",
            "15625/15625 [==============================] - 49s 3ms/step - loss: 7.8253 - accuracy: 0.4927\n",
            "15625/15625 [==============================] - 48s 3ms/step - loss: 7.8497 - accuracy: 0.4911\n",
            "15625/15625 [==============================] - 49s 3ms/step - loss: 7.8378 - accuracy: 0.4919\n",
            "15625/15625 [==============================] - 49s 3ms/step - loss: 7.8395 - accuracy: 0.4918\n",
            "15625/15625 [==============================] - 48s 3ms/step - loss: 7.8303 - accuracy: 0.4924\n",
            "15625/15625 [==============================] - 48s 3ms/step - loss: 7.8372 - accuracy: 0.4919\n",
            "15625/15625 [==============================] - 48s 3ms/step - loss: 7.8262 - accuracy: 0.4926\n",
            "15625/15625 [==============================] - 49s 3ms/step - loss: 7.8160 - accuracy: 0.4933\n",
            "15625/15625 [==============================] - 49s 3ms/step - loss: 7.8351 - accuracy: 0.4920\n",
            "15625/15625 [==============================] - 48s 3ms/step - loss: 7.8338 - accuracy: 0.4921\n",
            "15625/15625 [==============================] - 49s 3ms/step - loss: 7.8454 - accuracy: 0.4914\n",
            "15625/15625 [==============================] - 48s 3ms/step - loss: 7.8253 - accuracy: 0.4927\n",
            "15625/15625 [==============================] - 48s 3ms/step - loss: 7.8578 - accuracy: 0.4906\n",
            "15625/15625 [==============================] - 48s 3ms/step - loss: 7.8272 - accuracy: 0.4926\n",
            "15625/15625 [==============================] - 48s 3ms/step - loss: 7.8214 - accuracy: 0.4929\n",
            "15625/15625 [==============================] - 49s 3ms/step - loss: 7.8393 - accuracy: 0.4918\n",
            "15625/15625 [==============================] - 49s 3ms/step - loss: 7.8394 - accuracy: 0.4918\n",
            "15625/15625 [==============================] - 49s 3ms/step - loss: 7.8283 - accuracy: 0.4925\n",
            "6161/6161 [==============================] - 19s 3ms/step - loss: 7.8231 - accuracy: 0.4928\n"
          ]
        }
      ]
    },
    {
      "cell_type": "code",
      "execution_count": null,
      "metadata": {
        "id": "eBlpAi_i6Evj"
      },
      "outputs": [],
      "source": [
        "test_y = test.pop('Label')\n",
        "test_x = test"
      ]
    },
    {
      "cell_type": "code",
      "execution_count": null,
      "metadata": {
        "id": "2n7h0UiD6Evl"
      },
      "outputs": [],
      "source": [
        "test_x = scaler.transform(test_x)\n",
        "test_y = encoder.transform(test_y)"
      ]
    },
    {
      "cell_type": "code",
      "execution_count": null,
      "metadata": {
        "id": "d2ztO8vx6Evp",
        "colab": {
          "base_uri": "https://localhost:8080/"
        },
        "outputId": "2f69fd5d-2e29-4c86-e157-bae92ea468ca"
      },
      "outputs": [
        {
          "output_type": "stream",
          "name": "stdout",
          "text": [
            "79666/79666 [==============================] - 225s 3ms/step - loss: 7.8270 - accuracy: 0.4926\n",
            "Score 7.8269524574279785 Accuracy 0.4925849735736847\n"
          ]
        }
      ],
      "source": [
        "pred = model.predict(test_x, verbose=1)\n",
        "pred_y = np.argmax(pred, axis=1)"
      ]
    },
    {
      "cell_type": "code",
      "source": [
        "report = classification_report(test_y, pred_y)\n",
        "print(report)"
      ],
      "metadata": {
        "id": "XAvoXWQV5trp"
      },
      "execution_count": null,
      "outputs": []
    }
  ],
  "metadata": {
    "interpreter": {
      "hash": "759c5e0d3d88a894482aeabccbd08c19af37ecec916291e5ab4326292ca84839"
    },
    "kernelspec": {
      "display_name": "Python 3.10.4 64-bit",
      "language": "python",
      "name": "python3"
    },
    "language_info": {
      "codemirror_mode": {
        "name": "ipython",
        "version": 3
      },
      "file_extension": ".py",
      "mimetype": "text/x-python",
      "name": "python",
      "nbconvert_exporter": "python",
      "pygments_lexer": "ipython3",
      "version": "3.10.4"
    },
    "orig_nbformat": 4,
    "colab": {
      "provenance": [],
      "collapsed_sections": [],
      "include_colab_link": true
    },
    "accelerator": "GPU",
    "gpuClass": "standard"
  },
  "nbformat": 4,
  "nbformat_minor": 0
}