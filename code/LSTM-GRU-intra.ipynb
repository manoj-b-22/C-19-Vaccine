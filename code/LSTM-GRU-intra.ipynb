{
  "nbformat": 4,
  "nbformat_minor": 0,
  "metadata": {
    "colab": {
      "provenance": [],
      "include_colab_link": true
    },
    "kernelspec": {
      "name": "python3",
      "display_name": "Python 3"
    },
    "language_info": {
      "name": "python"
    },
    "accelerator": "GPU"
  },
  "cells": [
    {
      "cell_type": "markdown",
      "metadata": {
        "id": "view-in-github",
        "colab_type": "text"
      },
      "source": [
        "<a href=\"https://colab.research.google.com/github/manoj-b-22/C-19-Vaccine/blob/main/code/LSTM-GRU-intra.ipynb\" target=\"_parent\"><img src=\"https://colab.research.google.com/assets/colab-badge.svg\" alt=\"Open In Colab\"/></a>"
      ]
    },
    {
      "cell_type": "code",
      "execution_count": null,
      "metadata": {
        "id": "I6ww-1Xw83L3"
      },
      "outputs": [],
      "source": [
        "import numpy as np\n",
        "import pandas as pd\n",
        "from keras.models import Sequential\n",
        "from keras.layers import LSTM, Dense, GRU\n",
        "from sklearn.model_selection import train_test_split\n",
        "from sklearn.preprocessing import StandardScaler, LabelEncoder\n",
        "from sklearn.metrics import classification_report, confusion_matrix"
      ]
    },
    {
      "cell_type": "code",
      "source": [
        "from google.colab import drive\n",
        "drive.mount('/content/drive')"
      ],
      "metadata": {
        "id": "omFe8M46-C1k"
      },
      "execution_count": null,
      "outputs": []
    },
    {
      "cell_type": "code",
      "source": [
        "data = pd.read_csv('/content/drive/MyDrive/intravehicle.csv')"
      ],
      "metadata": {
        "id": "1klkHNbm-Guw"
      },
      "execution_count": null,
      "outputs": []
    },
    {
      "cell_type": "code",
      "source": [
        "y_data = data.pop('4')\n",
        "x_data = data"
      ],
      "metadata": {
        "id": "2ba-jn5i-Jew"
      },
      "execution_count": null,
      "outputs": []
    },
    {
      "cell_type": "code",
      "source": [
        "train_x,test_x,train_y,test_y = train_test_split(x_data, y_data, test_size=0.2, random_state=0, shuffle=True)"
      ],
      "metadata": {
        "id": "hUFJSWtz-Me8"
      },
      "execution_count": null,
      "outputs": []
    },
    {
      "cell_type": "code",
      "source": [
        "train_x = train_x.reset_index(drop=True)\n",
        "test_x = test_x.reset_index(drop=True) \n",
        "train_y = train_y.reset_index(drop=True)\n",
        "test_y = test_y.reset_index(drop=True)"
      ],
      "metadata": {
        "id": "Hy5BKh0D-O3k"
      },
      "execution_count": null,
      "outputs": []
    },
    {
      "cell_type": "code",
      "source": [
        "scaler = StandardScaler()\n",
        "train_x = scaler.fit_transform(train_x)\n",
        "test_x = scaler.transform(test_x)"
      ],
      "metadata": {
        "id": "VuuvpRwe-SQ_"
      },
      "execution_count": null,
      "outputs": []
    },
    {
      "cell_type": "code",
      "source": [
        "encoder = LabelEncoder()\n",
        "train_y = encoder.fit_transform(train_y)\n",
        "test_y = encoder.transform(test_y)"
      ],
      "metadata": {
        "id": "xIhL9lGF-UDH"
      },
      "execution_count": null,
      "outputs": []
    },
    {
      "cell_type": "code",
      "source": [
        "model = Sequential()\n",
        "model.add(LSTM(100, input_shape=(len(x_data.columns), 1), activation='tanh', recurrent_activation='sigmoid', return_sequences=True))\n",
        "model.add(Dense(100, activation='ReLU'))\n",
        "model.add(GRU(100, input_shape=(100, 1), activation='tanh', recurrent_activation='sigmoid')) \n",
        "model.add(Dense(4, activation='softmax'))\n",
        "model.compile(loss='sparse_categorical_crossentropy', optimizer='adam', metrics=['accuracy'])\n",
        "model.summary()"
      ],
      "metadata": {
        "id": "DWp6JVe6-f1x",
        "colab": {
          "base_uri": "https://localhost:8080/"
        },
        "outputId": "70c26e42-5ecc-4efc-a122-d5ee3639c952"
      },
      "execution_count": null,
      "outputs": [
        {
          "output_type": "stream",
          "name": "stdout",
          "text": [
            "Model: \"sequential\"\n",
            "_________________________________________________________________\n",
            " Layer (type)                Output Shape              Param #   \n",
            "=================================================================\n",
            " lstm (LSTM)                 (None, 4, 100)            40800     \n",
            "                                                                 \n",
            " dense (Dense)               (None, 4, 100)            10100     \n",
            "                                                                 \n",
            " gru (GRU)                   (None, 100)               60600     \n",
            "                                                                 \n",
            " dense_1 (Dense)             (None, 4)                 404       \n",
            "                                                                 \n",
            "=================================================================\n",
            "Total params: 111,904\n",
            "Trainable params: 111,904\n",
            "Non-trainable params: 0\n",
            "_________________________________________________________________\n"
          ]
        }
      ]
    },
    {
      "cell_type": "code",
      "source": [
        "model.fit(train_x, train_y, epochs=6, batch_size=32)"
      ],
      "metadata": {
        "id": "qTEcMBfO_uso",
        "colab": {
          "base_uri": "https://localhost:8080/"
        },
        "outputId": "aca55404-3593-4301-df3f-b67d8fbbd0ca"
      },
      "execution_count": null,
      "outputs": [
        {
          "output_type": "stream",
          "name": "stdout",
          "text": [
            "Epoch 1/6\n",
            "414237/414237 [==============================] - 2127s 5ms/step - loss: 0.0327 - accuracy: 0.9891\n",
            "Epoch 2/6\n",
            "414237/414237 [==============================] - 2085s 5ms/step - loss: 0.0256 - accuracy: 0.9913\n",
            "Epoch 3/6\n",
            "414237/414237 [==============================] - 2149s 5ms/step - loss: 0.0243 - accuracy: 0.9917\n",
            "Epoch 4/6\n",
            "414237/414237 [==============================] - 2254s 5ms/step - loss: 0.0216 - accuracy: 0.9926\n",
            "Epoch 5/6\n",
            "414237/414237 [==============================] - 2591s 6ms/step - loss: 0.0152 - accuracy: 0.9955\n",
            "Epoch 6/6\n",
            "414237/414237 [==============================] - 2197s 5ms/step - loss: 0.0187 - accuracy: 0.9940\n"
          ]
        },
        {
          "output_type": "execute_result",
          "data": {
            "text/plain": [
              "<keras.callbacks.History at 0x7f90620650d0>"
            ]
          },
          "metadata": {},
          "execution_count": 10
        }
      ]
    },
    {
      "cell_type": "code",
      "source": [
        "pred = model.predict(test_x, verbose=1)\n",
        "pred_y = np.argmax(pred, axis=2)"
      ],
      "metadata": {
        "id": "zlH6j8a9_x05",
        "colab": {
          "base_uri": "https://localhost:8080/"
        },
        "outputId": "842239c5-3919-4588-f69a-754de099cf9d"
      },
      "execution_count": null,
      "outputs": [
        {
          "output_type": "stream",
          "name": "stdout",
          "text": [
            "103560/103560 [==============================] - 343s 3ms/step - loss: 0.0221 - accuracy: 0.9922\n",
            "Score 0.022102167829871178 Accuracy 0.9921995401382446\n"
          ]
        }
      ]
    },
    {
      "cell_type": "code",
      "source": [
        "confusion_matrix(test_y, pred_y)"
      ],
      "metadata": {
        "id": "3OXVX6cTqp30"
      },
      "execution_count": null,
      "outputs": []
    },
    {
      "cell_type": "code",
      "source": [
        "report = classification_report(test_y, pred_y)"
      ],
      "metadata": {
        "id": "RyunveCKqsUM"
      },
      "execution_count": null,
      "outputs": []
    }
  ]
}